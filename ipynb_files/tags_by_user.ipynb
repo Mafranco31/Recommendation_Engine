{
 "cells": [
  {
   "cell_type": "code",
   "execution_count": 103,
   "metadata": {},
   "outputs": [],
   "source": [
    "import pandas as pd"
   ]
  },
  {
   "cell_type": "code",
   "execution_count": 166,
   "metadata": {},
   "outputs": [
    {
     "data": {
      "text/html": [
       "<div>\n",
       "<style scoped>\n",
       "    .dataframe tbody tr th:only-of-type {\n",
       "        vertical-align: middle;\n",
       "    }\n",
       "\n",
       "    .dataframe tbody tr th {\n",
       "        vertical-align: top;\n",
       "    }\n",
       "\n",
       "    .dataframe thead th {\n",
       "        text-align: right;\n",
       "    }\n",
       "</style>\n",
       "<table border=\"1\" class=\"dataframe\">\n",
       "  <thead>\n",
       "    <tr style=\"text-align: right;\">\n",
       "      <th></th>\n",
       "      <th>userID</th>\n",
       "      <th>artistID</th>\n",
       "      <th>weight</th>\n",
       "    </tr>\n",
       "  </thead>\n",
       "  <tbody>\n",
       "    <tr>\n",
       "      <th>24591</th>\n",
       "      <td>1893</td>\n",
       "      <td>17466</td>\n",
       "      <td>1</td>\n",
       "    </tr>\n",
       "    <tr>\n",
       "      <th>1971</th>\n",
       "      <td>1893</td>\n",
       "      <td>17465</td>\n",
       "      <td>1</td>\n",
       "    </tr>\n",
       "  </tbody>\n",
       "</table>\n",
       "</div>"
      ],
      "text/plain": [
       "       userID  artistID  weight\n",
       "24591    1893     17466       1\n",
       "1971     1893     17465       1"
      ]
     },
     "execution_count": 166,
     "metadata": {},
     "output_type": "execute_result"
    }
   ],
   "source": [
    "user = pd.read_csv('./data/user_artists_gp6.dat', delimiter='\\t').sort_values('userID')\n",
    "user[user['userID'] == 1893]"
   ]
  },
  {
   "cell_type": "code",
   "execution_count": 105,
   "metadata": {},
   "outputs": [
    {
     "data": {
      "text/html": [
       "<div>\n",
       "<style scoped>\n",
       "    .dataframe tbody tr th:only-of-type {\n",
       "        vertical-align: middle;\n",
       "    }\n",
       "\n",
       "    .dataframe tbody tr th {\n",
       "        vertical-align: top;\n",
       "    }\n",
       "\n",
       "    .dataframe thead th {\n",
       "        text-align: right;\n",
       "    }\n",
       "</style>\n",
       "<table border=\"1\" class=\"dataframe\">\n",
       "  <thead>\n",
       "    <tr style=\"text-align: right;\">\n",
       "      <th></th>\n",
       "      <th>artist_id</th>\n",
       "      <th>first_music</th>\n",
       "      <th>similar_artists1</th>\n",
       "      <th>similar_artists2</th>\n",
       "      <th>similar_artists3</th>\n",
       "      <th>music_tag1</th>\n",
       "      <th>music_tag2</th>\n",
       "      <th>music_tag3</th>\n",
       "      <th>music_tag4</th>\n",
       "      <th>music_tag5</th>\n",
       "    </tr>\n",
       "  </thead>\n",
       "  <tbody>\n",
       "    <tr>\n",
       "      <th>1</th>\n",
       "      <td>15353</td>\n",
       "      <td>Cara mia</td>\n",
       "      <td>0</td>\n",
       "      <td>0</td>\n",
       "      <td>0</td>\n",
       "      <td>pop</td>\n",
       "      <td>swedish</td>\n",
       "      <td>male vocalists</td>\n",
       "      <td>dance</td>\n",
       "      <td>melodifestivalen</td>\n",
       "    </tr>\n",
       "    <tr>\n",
       "      <th>2</th>\n",
       "      <td>16249</td>\n",
       "      <td>SAMBA DE 恋して</td>\n",
       "      <td>0</td>\n",
       "      <td>0</td>\n",
       "      <td>0</td>\n",
       "      <td>jazz</td>\n",
       "      <td>japanese</td>\n",
       "      <td>instrumental</td>\n",
       "      <td>j-jazz</td>\n",
       "      <td>samurai jazz</td>\n",
       "    </tr>\n",
       "    <tr>\n",
       "      <th>3</th>\n",
       "      <td>14476</td>\n",
       "      <td>You Can't Teach An Old Dog New Tricks</td>\n",
       "      <td>0</td>\n",
       "      <td>0</td>\n",
       "      <td>0</td>\n",
       "      <td>blues</td>\n",
       "      <td>blues rock</td>\n",
       "      <td>folk</td>\n",
       "      <td>singer-songwriter</td>\n",
       "      <td>country</td>\n",
       "    </tr>\n",
       "    <tr>\n",
       "      <th>4</th>\n",
       "      <td>13505</td>\n",
       "      <td>Yo era ninya</td>\n",
       "      <td>9064</td>\n",
       "      <td>0</td>\n",
       "      <td>0</td>\n",
       "      <td>jewish</td>\n",
       "      <td>world</td>\n",
       "      <td>sephardic</td>\n",
       "      <td>turkish</td>\n",
       "      <td>ladino</td>\n",
       "    </tr>\n",
       "    <tr>\n",
       "      <th>5</th>\n",
       "      <td>17630</td>\n",
       "      <td>Elektro Hexe</td>\n",
       "      <td>0</td>\n",
       "      <td>0</td>\n",
       "      <td>0</td>\n",
       "      <td>NaN</td>\n",
       "      <td>NaN</td>\n",
       "      <td>NaN</td>\n",
       "      <td>NaN</td>\n",
       "      <td>NaN</td>\n",
       "    </tr>\n",
       "  </tbody>\n",
       "</table>\n",
       "</div>"
      ],
      "text/plain": [
       "   artist_id                            first_music  similar_artists1  \\\n",
       "1      15353                               Cara mia                 0   \n",
       "2      16249                           SAMBA DE 恋して                 0   \n",
       "3      14476  You Can't Teach An Old Dog New Tricks                 0   \n",
       "4      13505                           Yo era ninya              9064   \n",
       "5      17630                           Elektro Hexe                 0   \n",
       "\n",
       "   similar_artists2  similar_artists3 music_tag1  music_tag2      music_tag3  \\\n",
       "1                 0                 0        pop     swedish  male vocalists   \n",
       "2                 0                 0       jazz    japanese    instrumental   \n",
       "3                 0                 0      blues  blues rock            folk   \n",
       "4                 0                 0     jewish       world       sephardic   \n",
       "5                 0                 0        NaN         NaN             NaN   \n",
       "\n",
       "          music_tag4        music_tag5  \n",
       "1              dance  melodifestivalen  \n",
       "2             j-jazz      samurai jazz  \n",
       "3  singer-songwriter           country  \n",
       "4            turkish            ladino  \n",
       "5                NaN               NaN  "
      ]
     },
     "execution_count": 105,
     "metadata": {},
     "output_type": "execute_result"
    }
   ],
   "source": [
    "artists = pd.read_csv('./data/artists_type.csv', delimiter=';', index_col=0)\n",
    "artists.head()"
   ]
  },
  {
   "cell_type": "code",
   "execution_count": 106,
   "metadata": {},
   "outputs": [],
   "source": [
    "def get_fav_tag(userid):\n",
    "    \"\"\"\n",
    "    This function takes an user id and return this favourite tags\n",
    "\n",
    "    Arg:\n",
    "        arg1: id of the user\n",
    "    \n",
    "    Return:\n",
    "        A dictionary with as key each tag and as value their occurence\n",
    "    \"\"\"\n",
    "    # We get all the rows that contain the userid and we keep only the artistID\n",
    "    try:\n",
    "        v_artists_listened = user[user['userID'] == int(userid)].sort_values('weight', ascending=False)['artistID'].to_list()   \n",
    "        \n",
    "        # We get only the rows of 'artsts' that are in 'v_reco' and drop all the columns except the music tags.\n",
    "        artists_id = pd.DataFrame(artists[artists['artist_id'].isin(v_artists_listened)].drop(['first_music', 'similar_artists1', 'similar_artists2', 'similar_artists3'], axis=1))\n",
    "\n",
    "        # We take the values of all the columns in a pandas Series\n",
    "        tag_id = pd.Series(artists_id.iloc[:, 1:].values.flatten())\n",
    "\n",
    "        # We return tag_id\n",
    "        v_tags = tag_id.value_counts().head(5).to_dict()\n",
    "        total = sum(v_tags.values())\n",
    "        \n",
    "        d_tags = {}\n",
    "        for key, value in v_tags.items():\n",
    "            d_tags[key] = round((value / total) * 100)\n",
    "        return d_tags\n",
    "    except:\n",
    "        return dict({'0': 0, '0': 0, '0': 0, '0': 0, '0': 0})"
   ]
  },
  {
   "cell_type": "code",
   "execution_count": 115,
   "metadata": {},
   "outputs": [
    {
     "name": "stdout",
     "output_type": "stream",
     "text": [
      "      userID\n",
      "0          2\n",
      "1          3\n",
      "2          4\n",
      "3          5\n",
      "4          6\n",
      "...      ...\n",
      "1881    2095\n",
      "1882    2096\n",
      "1883    2097\n",
      "1884    2099\n",
      "1885    2100\n",
      "\n",
      "[1886 rows x 1 columns]\n",
      "<class 'pandas.core.series.Series'>\n"
     ]
    }
   ],
   "source": [
    "user_tags = pd.DataFrame()\n",
    "user_u = user['userID'].unique()\n",
    "\n",
    "# Create a new DataFrame with 'userID' column\n",
    "user_tags = pd.DataFrame({'userID': user_u})\n",
    "\n",
    "# Convert 'userID' column to integer type\n",
    "user_tags['userID'] = user_tags['userID'].astype(int)\n",
    "\n",
    "print(user_tags)\n",
    "print(type(user_tags['userID']))"
   ]
  },
  {
   "cell_type": "code",
   "execution_count": 116,
   "metadata": {},
   "outputs": [
    {
     "data": {
      "text/plain": [
       "{'electronic': 32,\n",
       " 'pop': 21,\n",
       " 'female vocalists': 17,\n",
       " '80s': 17,\n",
       " 'new wave': 13}"
      ]
     },
     "execution_count": 116,
     "metadata": {},
     "output_type": "execute_result"
    }
   ],
   "source": [
    "get_fav_tag(2)"
   ]
  },
  {
   "cell_type": "code",
   "execution_count": 117,
   "metadata": {},
   "outputs": [
    {
     "data": {
      "text/plain": [
       "array([   2,    3,    4, ..., 2097, 2099, 2100])"
      ]
     },
     "execution_count": 117,
     "metadata": {},
     "output_type": "execute_result"
    }
   ],
   "source": [
    "user_u"
   ]
  },
  {
   "cell_type": "code",
   "execution_count": 118,
   "metadata": {},
   "outputs": [],
   "source": [
    "user_tags['tags'] = user_tags['userID'].apply(lambda x: get_fav_tag(x))\n",
    "user_tags.to_csv('./data/tags_by_usr.csv')"
   ]
  },
  {
   "cell_type": "code",
   "execution_count": 163,
   "metadata": {},
   "outputs": [
    {
     "data": {
      "text/html": [
       "<div>\n",
       "<style scoped>\n",
       "    .dataframe tbody tr th:only-of-type {\n",
       "        vertical-align: middle;\n",
       "    }\n",
       "\n",
       "    .dataframe tbody tr th {\n",
       "        vertical-align: top;\n",
       "    }\n",
       "\n",
       "    .dataframe thead th {\n",
       "        text-align: right;\n",
       "    }\n",
       "</style>\n",
       "<table border=\"1\" class=\"dataframe\">\n",
       "  <thead>\n",
       "    <tr style=\"text-align: right;\">\n",
       "      <th></th>\n",
       "      <th>userID</th>\n",
       "      <th>tags</th>\n",
       "    </tr>\n",
       "  </thead>\n",
       "  <tbody>\n",
       "    <tr>\n",
       "      <th>0</th>\n",
       "      <td>2</td>\n",
       "      <td>{'electronic': 32, 'pop': 21, 'female vocalist...</td>\n",
       "    </tr>\n",
       "    <tr>\n",
       "      <th>1</th>\n",
       "      <td>3</td>\n",
       "      <td>{'ambient': 33, 'electronic': 25, 'experimenta...</td>\n",
       "    </tr>\n",
       "    <tr>\n",
       "      <th>2</th>\n",
       "      <td>4</td>\n",
       "      <td>{'rock': 31, 'alternative': 27, 'electronic': ...</td>\n",
       "    </tr>\n",
       "    <tr>\n",
       "      <th>3</th>\n",
       "      <td>5</td>\n",
       "      <td>{'alternative': 26, 'indie': 26, 'rock': 21, '...</td>\n",
       "    </tr>\n",
       "    <tr>\n",
       "      <th>4</th>\n",
       "      <td>6</td>\n",
       "      <td>{'female vocalists': 29, 'soul': 22, 'rnb': 18...</td>\n",
       "    </tr>\n",
       "  </tbody>\n",
       "</table>\n",
       "</div>"
      ],
      "text/plain": [
       "   userID                                               tags\n",
       "0       2  {'electronic': 32, 'pop': 21, 'female vocalist...\n",
       "1       3  {'ambient': 33, 'electronic': 25, 'experimenta...\n",
       "2       4  {'rock': 31, 'alternative': 27, 'electronic': ...\n",
       "3       5  {'alternative': 26, 'indie': 26, 'rock': 21, '...\n",
       "4       6  {'female vocalists': 29, 'soul': 22, 'rnb': 18..."
      ]
     },
     "execution_count": 163,
     "metadata": {},
     "output_type": "execute_result"
    }
   ],
   "source": [
    "test = pd.read_csv('./data/tags_by_usr.csv', delimiter=',', index_col=0)\n",
    "#test['tags'] = test['userID'].apply(lambda x: get_fav_tag(x))\n",
    "test['tags'] = test['tags'].apply(lambda x: eval(x))\n",
    "test.head()"
   ]
  },
  {
   "cell_type": "code",
   "execution_count": 164,
   "metadata": {},
   "outputs": [
    {
     "name": "stdout",
     "output_type": "stream",
     "text": [
      "      userID                                               tags\n",
      "1881    2095  {'world': 28, 'folk': 28, 'turkish': 16, 'kurd...\n",
      "1882    2096  {'alternative': 30, 'rock': 27, 'indie': 19, '...\n",
      "1883    2097  {'alternative': 26, 'rock': 26, 'indie': 20, '...\n",
      "1884    2099  {'electronic': 25, 'hip-hop': 22, 'trip-hop': ...\n",
      "1885    2100  {'black metal': 44, 'metal': 20, 'french black...\n"
     ]
    }
   ],
   "source": [
    "print(test.tail())"
   ]
  },
  {
   "cell_type": "code",
   "execution_count": 131,
   "metadata": {},
   "outputs": [],
   "source": [
    "def get_abs_dif_tags(new_tag, tag):\n",
    "    tot = 0\n",
    "    for i in tag:\n",
    "        if i in new_tag:\n",
    "            tot += abs(new_tag[i] - tag[i])\n",
    "    if tot >= 100:\n",
    "        return 100\n",
    "    return 100 - tot\n"
   ]
  },
  {
   "cell_type": "code",
   "execution_count": 137,
   "metadata": {},
   "outputs": [],
   "source": [
    "def find_reco_same_user(userid):\n",
    "    tag = user_tags[user_tags.index == userid]['tags'].iloc[0]\n",
    "    l_same_usr = {}\n",
    "    equal = 5\n",
    "    while (equal > 2 and len(l_same_usr) < 30):\n",
    "        for i in range(len(user_tags)):\n",
    "            if sum(1 for x, y in zip(list(user_tags['tags'][i].keys())[:equal], list(tag.keys())[:equal]) if x == y) == equal and user_tags.index[i] != userid:\n",
    "                dif = {}\n",
    "                l_same_usr[user_tags.index[i]] = get_abs_dif_tags(user_tags['tags'][i], tag)\n",
    "\n",
    "            if (len(l_same_usr) >= 30):\n",
    "                break\n",
    "        equal = equal - 1\n",
    "    if len(l_same_usr) < 30:\n",
    "        for i in range(len(user_tags)):\n",
    "            if sum(1 for x in list(user_tags['tags'][i].keys())[:3] for y in list(tag.keys())[:3] if x == y) == 3 and user_tags.index[i] != userid:\n",
    "                dif = {}\n",
    "                l_same_usr[user_tags.index[i]] = get_abs_dif_tags(user_tags['tags'][i], tag)\n",
    "            if (len(l_same_usr) >= 30):\n",
    "                break\n",
    "\n",
    "    d_same_usr = dict(sorted(l_same_usr.items(), key=lambda x:x[1], reverse = True)[:10])\n",
    "    d_usr = {key: value for key, value in d_same_usr.items() if value >= 80}\n",
    "    ret = []\n",
    "    for key in d_usr:\n",
    "        ret.append(user[user.index == key].sort_values('weight', ascending=False)['artistID'].head(5).to_list())\n",
    "\n",
    "    flattened_list = pd.Series([item for sublist in ret for item in sublist])\n",
    "    fl = flattened_list.value_counts()\n",
    "    return fl[fl.values > 1][:5]\n",
    "    \n",
    "    return dict(sorted(l_same_usr.items(), key=lambda x:x[1], reverse = True)[:5])"
   ]
  },
  {
   "cell_type": "code",
   "execution_count": 141,
   "metadata": {},
   "outputs": [
    {
     "name": "stdout",
     "output_type": "stream",
     "text": [
      "{}\n"
     ]
    }
   ],
   "source": [
    "list_usr = user_tags['userID'].tolist()\n",
    "for i in range(4, 5):\n",
    "    if i in list_usr:\n",
    "        tags = find_reco_same_user(int(i))\n",
    "        print(tags)"
   ]
  }
 ],
 "metadata": {
  "kernelspec": {
   "display_name": "Python 3",
   "language": "python",
   "name": "python3"
  },
  "language_info": {
   "codemirror_mode": {
    "name": "ipython",
    "version": 3
   },
   "file_extension": ".py",
   "mimetype": "text/x-python",
   "name": "python",
   "nbconvert_exporter": "python",
   "pygments_lexer": "ipython3",
   "version": "3.12.0"
  }
 },
 "nbformat": 4,
 "nbformat_minor": 2
}
